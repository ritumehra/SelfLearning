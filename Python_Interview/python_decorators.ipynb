{
 "cells": [
  {
   "cell_type": "code",
   "execution_count": 5,
   "metadata": {
    "collapsed": true
   },
   "outputs": [
    {
     "name": "stdout",
     "output_type": "stream",
     "text": [
      "x: 1\nx: 3\nInside def g(y): \ny: 1\n5\nInside def g(y): \ny: 1\n7\n"
     ]
    }
   ],
   "source": [
    "# PYTHON Decorators\n",
    "\n",
    "def f(x):\n",
    "    print(\"x: {}\".format(x))\n",
    "    def g(y):\n",
    "        print(\"Inside def g(y): \")\n",
    "        print(\"y: {}\".format(y))\n",
    "        return y + x + 3 \n",
    "    return g\n",
    "\n",
    "nf1 = f(1)\n",
    "nf2 = f(3)\n",
    "\n",
    "print(nf1(1))\n",
    "print(nf2(1))"
   ]
  },
  {
   "cell_type": "code",
   "execution_count": 14,
   "metadata": {},
   "outputs": [
    {
     "name": "stdout",
     "output_type": "stream",
     "text": [
      "I am going to divide 2 and 5\ndef divide(a,b):\n"
     ]
    },
    {
     "data": {
      "text/plain": [
       "0.4"
      ]
     },
     "execution_count": 14,
     "metadata": {},
     "output_type": "execute_result"
    }
   ],
   "source": [
    "# PYTHON Decorators\n",
    "\n",
    "def smart_divide(func):\n",
    "   def inner(a,b):\n",
    "      print(\"I am going to divide\",a,\"and\",b)\n",
    "      if b == 0:\n",
    "         print(\"Whoops! cannot divide\")\n",
    "         return\n",
    "      \n",
    "      # print(func(a,b))\n",
    "      return func(a,b)\n",
    "   # print(inner)\n",
    "   return inner\n",
    "\n",
    "@smart_divide\n",
    "def divide(a,b):\n",
    "    print(\"def divide(a,b):\")\n",
    "    return a/b\n",
    "\n",
    "\n",
    "divide(2,5)"
   ]
  },
  {
   "cell_type": "code",
   "execution_count": 16,
   "metadata": {},
   "outputs": [
    {
     "name": "stdout",
     "output_type": "stream",
     "text": [
      "Decore Test 1\nDecore Test 1\n"
     ]
    }
   ],
   "source": [
    "# python functions\n",
    "\n",
    "def test1():\n",
    "    print(\"Decore Test 1\")\n",
    "\n",
    "test1()\n",
    "\n",
    "test2 = test1\n",
    "\n",
    "test2()"
   ]
  },
  {
   "cell_type": "code",
   "execution_count": 18,
   "metadata": {},
   "outputs": [
    {
     "name": "stdout",
     "output_type": "stream",
     "text": [
      "Inside operate(func, val):\ninside test2(y)\n4\nExiting operate(func, val):\nInside operate(func, val):\nInside test1(x)\n6\nExiting operate(func, val):\n"
     ]
    }
   ],
   "source": [
    "# Passing function to a function\n",
    "\n",
    "\n",
    "def test1(x):\n",
    "    print(\"Inside test1(x)\")\n",
    "    return x+1\n",
    "\n",
    "\n",
    "def test2(y):\n",
    "    print(\"inside test2(y)\")\n",
    "    return y+2\n",
    "\n",
    "\n",
    "def operate(func, val):\n",
    "    print(\"Inside operate(func, val):\")\n",
    "    print(func(val))\n",
    "    print(\"Exiting operate(func, val):\")\n",
    "    \n",
    "operate(test2,2)\n",
    "operate(test1,5)"
   ]
  },
  {
   "cell_type": "code",
   "execution_count": 26,
   "metadata": {},
   "outputs": [
    {
     "name": "stdout",
     "output_type": "stream",
     "text": [
      "Inside operate(func, val):\nExiing operate(func, val):\n"
     ]
    }
   ],
   "source": [
    "# function returns another function\n",
    "\n",
    "\n",
    "def top_function():\n",
    "    def inner_function():\n",
    "        print(\"Inside operate(func, val):\")\n",
    "        # var += 4\n",
    "        print(\"Exiing operate(func, val):\")\n",
    "    return inner_function()\n",
    "\n",
    "new = top_function\n",
    "\n",
    "new()"
   ]
  },
  {
   "cell_type": "code",
   "execution_count": 24,
   "metadata": {},
   "outputs": [],
   "source": [
    ""
   ]
  },
  {
   "cell_type": "code",
   "execution_count": null,
   "metadata": {},
   "outputs": [],
   "source": [
    ""
   ]
  }
 ],
 "metadata": {
  "kernelspec": {
   "display_name": "Python 2",
   "language": "python",
   "name": "python2"
  },
  "language_info": {
   "codemirror_mode": {
    "name": "ipython",
    "version": 2.0
   },
   "file_extension": ".py",
   "mimetype": "text/x-python",
   "name": "python",
   "nbconvert_exporter": "python",
   "pygments_lexer": "ipython2",
   "version": "2.7.6"
  }
 },
 "nbformat": 4,
 "nbformat_minor": 0
}