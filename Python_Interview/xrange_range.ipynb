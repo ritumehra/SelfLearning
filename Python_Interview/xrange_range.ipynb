{
 "cells": [
  {
   "cell_type": "code",
   "execution_count": 3,
   "metadata": {
    "collapsed": true
   },
   "outputs": [
    {
     "name": "stdout",
     "output_type": "stream",
     "text": [
      "The return type of range() is : \n<class 'range'>\nThe return type of xrange() is : \n"
     ]
    }
   ],
   "source": [
    "# import xrange\n",
    "# Python code to demonstrate range() vs xrange()\n",
    "# on  basis of return type\n",
    " \n",
    "# initializing a with range()\n",
    "a = range(1,10000)\n",
    " \n",
    "# initializing a with xrange()\n",
    "# x = xrange(1,10000)\n",
    " \n",
    "# testing the type of a\n",
    "print (\"The return type of range() is : \")\n",
    "print (type(a))\n",
    " \n",
    "# testing the type of x\n",
    "print (\"The return type of xrange() is : \")\n",
    "# print (type(x))"
   ]
  },
  {
   "cell_type": "code",
   "execution_count": 5,
   "metadata": {},
   "outputs": [
    {
     "name": "stdout",
     "output_type": "stream",
     "text": [
      "[0, 1, 1, 2, 3, 5, 8, 13, 21, 34]\n"
     ]
    }
   ],
   "source": [
    "def fibonacci():\n",
    "  a, b = 0, 1\n",
    "  while True:\n",
    "    yield a\n",
    "    a, b = b, a + b\n",
    "      \n",
    "fibb = fibonacci()\n",
    "fibb_list = [next(fibb) for i in range(10)]\n",
    "print(fibb_list)"
   ]
  },
  {
   "cell_type": "code",
   "execution_count": null,
   "metadata": {},
   "outputs": [],
   "source": [
    ""
   ]
  }
 ],
 "metadata": {
  "kernelspec": {
   "display_name": "Python 2",
   "language": "python",
   "name": "python2"
  },
  "language_info": {
   "codemirror_mode": {
    "name": "ipython",
    "version": 2.0
   },
   "file_extension": ".py",
   "mimetype": "text/x-python",
   "name": "python",
   "nbconvert_exporter": "python",
   "pygments_lexer": "ipython2",
   "version": "2.7.6"
  }
 },
 "nbformat": 4,
 "nbformat_minor": 0
}