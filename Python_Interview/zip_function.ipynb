{
 "cells": [
  {
   "cell_type": "code",
   "execution_count": 10,
   "metadata": {
    "collapsed": true
   },
   "outputs": [
    {
     "name": "stdout",
     "output_type": "stream",
     "text": [
      "[(1, 4), (2, 5), (3, 6)]\n[1, 2, 3] [4, 5, 6]\n[1, 2, 3] [4, 5, 6]\n"
     ]
    }
   ],
   "source": [
    "x = [1, 2, 3]\n",
    "y = [4, 5, 6]\n",
    "zipped = zip(x, y)\n",
    "zipped = list(zipped)\n",
    "print(zipped)\n",
    "# [(1, 4), (2, 5), (3, 6)]\n",
    "x2, y2 = zip(*zip(x, y))\n",
    "x3, y3 = zip(*(list(zipped)))\n",
    "print(list(x2), list(y2))\n",
    "print(list(x3), list(y3))\n",
    "# x == list(x2) and y == list(y2)\n",
    "# True"
   ]
  },
  {
   "cell_type": "code",
   "execution_count": 19,
   "metadata": {},
   "outputs": [
    {
     "name": "stdout",
     "output_type": "stream",
     "text": [
      "[('s', 's'), ('t', 't'), ('r', 'r'), ('i', 'i'), ('n', 'n'), ('g', 'g'), ('_', '_'), ('o', 't'), ('n', 'w'), ('e', 'o')]\n['s', 't', 'r', 'i', 'n', 'g', '_', 'o', 'n', 'e'] ['s', 't', 'r', 'i', 'n', 'g', '_', 't', 'w', 'o']\n['s', 't', 'r', 'i', 'n', 'g', '_', 'o', 'n', 'e'] ['s', 't', 'r', 'i', 'n', 'g', '_', 't', 'w', 'o']\n"
     ]
    }
   ],
   "source": [
    "import string\n",
    "\n",
    "x = 'string_one'\n",
    "y = 'string_two'\n",
    "zipped = zip(x, y)\n",
    "zipped = list(zipped)\n",
    "print(zipped)\n",
    "# [(1, 4), (2, 5), (3, 6)]\n",
    "x2, y2 = zip(*zip(x, y))\n",
    "x3, y3 = zip(*(list(zipped)))\n",
    "print(list(x2), list(y2))\n",
    "print(list(x3), list(y3))\n",
    "# x == list(x2) and y == list(y2)\n",
    "# True"
   ]
  },
  {
   "cell_type": "code",
   "execution_count": 33,
   "metadata": {},
   "outputs": [
    {
     "name": "stdout",
     "output_type": "stream",
     "text": [
      "[<list_iterator object at 0x00000000055AFF98>, <list_iterator object at 0x00000000055AF7F0>]\n1\n[1]\n4\n[1, 4]\noutside For\n2\n[2]\n5\n[2, 5]\noutside For\n3\n[3]\n<object object at 0x0000000000189D50>\nRitu\n[(1, 4), (2, 5)]\n"
     ]
    }
   ],
   "source": [
    "def zip1(*iterables):\n",
    "    # zip('ABCD', 'xy') --> Ax By\n",
    "    sentinel = object()\n",
    "    iterators = [iter(it) for it in iterables]\n",
    "    print(list(iterators))\n",
    "    while iterators:\n",
    "        result = []\n",
    "        for it in iterators:\n",
    "            elem = next(it, sentinel)\n",
    "            print(elem)\n",
    "            if elem is sentinel:\n",
    "                print (\"Ritu\")\n",
    "                return\n",
    "            result.append(elem)\n",
    "            print(result)\n",
    "        print(\"outside For\")\n",
    "        \n",
    "        yield tuple(result)\n",
    "        \n",
    "x = [1, 2, 3]\n",
    "y = [4, 5, 6]\n",
    "zipped = zip1(x, y)\n",
    "\n",
    "print(list(zipped))"
   ]
  },
  {
   "cell_type": "code",
   "execution_count": null,
   "metadata": {},
   "outputs": [],
   "source": [
    ""
   ]
  }
 ],
 "metadata": {
  "kernelspec": {
   "display_name": "Python 2",
   "language": "python",
   "name": "python2"
  },
  "language_info": {
   "codemirror_mode": {
    "name": "ipython",
    "version": 2.0
   },
   "file_extension": ".py",
   "mimetype": "text/x-python",
   "name": "python",
   "nbconvert_exporter": "python",
   "pygments_lexer": "ipython2",
   "version": "2.7.6"
  }
 },
 "nbformat": 4,
 "nbformat_minor": 0
}