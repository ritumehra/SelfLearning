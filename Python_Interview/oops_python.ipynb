{
 "cells": [
  {
   "cell_type": "code",
   "execution_count": 3,
   "metadata": {
    "collapsed": true
   },
   "outputs": [
    {
     "name": "stdout",
     "output_type": "stream",
     "text": [
      "Popat\n"
     ]
    }
   ],
   "source": [
    "class Parrot:\n",
    "    par_name = \"Popat\"\n",
    "    pass\n",
    "\n",
    "obj_parrot = Parrot()\n",
    "print(obj_parrot.par_name)"
   ]
  },
  {
   "cell_type": "code",
   "execution_count": 10,
   "metadata": {},
   "outputs": [
    {
     "name": "stdout",
     "output_type": "stream",
     "text": [
      "========== class attributes ==========\n========== Instance attributes ==========\n========== Instance attributes ==========\nClass Attributes: Bird\nClass Attributes: Bird\nClass Attributes: Bird\nBlue Parrot: Blue\n========== Class Method: ========= \nBlueParrot sings a Happy Song\nNone\n"
     ]
    }
   ],
   "source": [
    "class Parrot:\n",
    "    \n",
    "    print(\"========== class attributes ==========\")\n",
    "    species = \"Bird\"\n",
    "    \n",
    "    # This is like a class constructor ... in fact a parameterized constructor\n",
    "    def __init__(self, name, colour):\n",
    "        print(\"========== Instance attributes ==========\")\n",
    "        self.name = name\n",
    "        self.colour = colour\n",
    "        \n",
    "    def song(self,song):\n",
    "        print(\"========== Class Method: ========= \")\n",
    "        \n",
    "        print(\"{} sings a {}\".format(self.name,song))\n",
    "\n",
    "\n",
    "blue = Parrot(\"BlueParrot\",\"Blue\")\n",
    "green = Parrot(\"Green Parrot\",\"Green\")\n",
    "\n",
    "#Class Attributes are same for all the instances of a class\n",
    "print(\"Class Attributes: {}\".format(blue.__class__.species))\n",
    "print(\"Class Attributes: {}\".format(green.__class__.species))\n",
    "print(\"Class Attributes: {}\".format(Parrot.species))\n",
    "\n",
    "print(\"Blue Parrot: {}\".format(blue.colour))\n",
    "\n",
    "print(blue.song(\"Happy Song\"))"
   ]
  },
  {
   "cell_type": "code",
   "execution_count": 12,
   "metadata": {},
   "outputs": [
    {
     "name": "stdout",
     "output_type": "stream",
     "text": [
      "Bird Class\nNewBird Class\nI am NewBird\nBird Swims\nNewBird Runs\n"
     ]
    }
   ],
   "source": [
    "# OOPS Inheritance\n",
    "\n",
    "class Bird:\n",
    "    def __init__(self):\n",
    "        print(\"Bird Class\")\n",
    "        \n",
    "    def who_is_this(self):\n",
    "        print(\"I am a Bird\")\n",
    "    \n",
    "    def swim(self):\n",
    "        print(\"Bird Swims\")\n",
    "\n",
    "class NewBird(Bird):\n",
    "    \n",
    "    def __init__(self):\n",
    "        Bird.__init__(self)\n",
    "        print(\"NewBird Class\")\n",
    "    \n",
    "    def who_is_this(self):\n",
    "        print(\"I am NewBird\")\n",
    "    \n",
    "    def run(self):\n",
    "        print(\"NewBird Runs\")\n",
    "        \n",
    "new_bird =  NewBird()\n",
    "\n",
    "new_bird.who_is_this()\n",
    "new_bird.swim()\n",
    "new_bird.run()"
   ]
  },
  {
   "cell_type": "code",
   "execution_count": 17,
   "metadata": {},
   "outputs": [
    {
     "name": "stdout",
     "output_type": "stream",
     "text": [
      "Class Name: ParrotFish\nClass Name: ParrotFish\nSet Class Name: \nClass Name: MoonFish\n"
     ]
    }
   ],
   "source": [
    "# OOPS Encapsulation - Single underscore allows to change the private variable using the class object\n",
    "\n",
    "class student:\n",
    "    \n",
    "    def __init__(self):\n",
    "        self._className = \"ParrotFish\"\n",
    "        \n",
    "    def get_class(self):\n",
    "        print(\"Class Name: {}\".format(self._className))\n",
    "    \n",
    "    def set_class_name(self):\n",
    "        print(\"Set Class Name: \")\n",
    "        self._className = \"MoonFish\"\n",
    "        \n",
    "\n",
    "stud = student()\n",
    "\n",
    "stud.get_class()\n",
    "stud._className = \"starfish\"\n",
    "stud.get_class()\n",
    "stud.set_class_name()\n",
    "stud.get_class()"
   ]
  },
  {
   "cell_type": "code",
   "execution_count": 16,
   "metadata": {},
   "outputs": [
    {
     "name": "stdout",
     "output_type": "stream",
     "text": [
      "Selling Price: 900\nSelling Price: 900\nSelling Price: 1000\n"
     ]
    }
   ],
   "source": [
    "# OOPS Encapsulation: Python Double underscore does not allows to change \n",
    "# the private variable using the class object\n",
    "\n",
    "\n",
    "class Computer:\n",
    "\n",
    "    def __init__(self):\n",
    "        self.__maxprice = 900\n",
    "\n",
    "    def sell(self):\n",
    "        print(\"Selling Price: {}\".format(self.__maxprice))\n",
    "\n",
    "    def setMaxPrice(self, price):\n",
    "        self.__maxprice = price\n",
    "\n",
    "c = Computer()\n",
    "c.sell()\n",
    "\n",
    "# change the price\n",
    "c.__maxprice = 1000\n",
    "c.sell()\n",
    "\n",
    "# using setter function\n",
    "c.setMaxPrice(1000)\n",
    "c.sell()"
   ]
  },
  {
   "cell_type": "code",
   "execution_count": 18,
   "metadata": {},
   "outputs": [
    {
     "name": "stdout",
     "output_type": "stream",
     "text": [
      "Crow can fly\npenguin cannot fly\n"
     ]
    }
   ],
   "source": [
    "# OOPS Polymorphism :\n",
    "\n",
    "class crow:\n",
    "    \n",
    "    def swim(self):\n",
    "        print(\"Crow cannot swim\")\n",
    "    \n",
    "    def fly(self):\n",
    "        print(\"Crow can fly\")\n",
    "\n",
    "class penguin:\n",
    "    \n",
    "    def swim(self):\n",
    "        print(\"penguin can swim\")\n",
    "    \n",
    "    def fly(self):\n",
    "        print(\"penguin cannot fly\")\n",
    "\n",
    "\n",
    "def flying_bird(birs):\n",
    "    birs.fly()\n",
    "    \n",
    "obj_crow = crow()\n",
    "obj_penguin = penguin()\n",
    "\n",
    "flying_bird(obj_crow)\n",
    "flying_bird(obj_penguin)"
   ]
  },
  {
   "cell_type": "code",
   "execution_count": null,
   "metadata": {},
   "outputs": [],
   "source": [
    ""
   ]
  }
 ],
 "metadata": {
  "kernelspec": {
   "display_name": "Python 2",
   "language": "python",
   "name": "python2"
  },
  "language_info": {
   "codemirror_mode": {
    "name": "ipython",
    "version": 2.0
   },
   "file_extension": ".py",
   "mimetype": "text/x-python",
   "name": "python",
   "nbconvert_exporter": "python",
   "pygments_lexer": "ipython2",
   "version": "2.7.6"
  }
 },
 "nbformat": 4,
 "nbformat_minor": 0
}