{
 "cells": [
  {
   "cell_type": "code",
   "execution_count": 11,
   "metadata": {
    "collapsed": true
   },
   "outputs": [
    {
     "name": "stdout",
     "output_type": "stream",
     "text": [
      "{1: 'B', 2: 'B', 'jh': 'B'}\n0\n-740372566680383100\n"
     ]
    }
   ],
   "source": [
    "hash_dict = {}\n",
    "\n",
    "hash_dict[1] = \"A\"\n",
    "hash_dict[1] = \"B\"\n",
    "hash_dict[2] = \"B\"\n",
    "hash_dict[\"jh\"] = \"B\"\n",
    "print((hash_dict))\n",
    "\n",
    "print(hash('a') %7)\n",
    "print(hash('z'))\n",
    "\n",
    "dict"
   ]
  },
  {
   "cell_type": "code",
   "execution_count": null,
   "metadata": {},
   "outputs": [],
   "source": [
    ""
   ]
  }
 ],
 "metadata": {
  "kernelspec": {
   "display_name": "Python 2",
   "language": "python",
   "name": "python2"
  },
  "language_info": {
   "codemirror_mode": {
    "name": "ipython",
    "version": 2.0
   },
   "file_extension": ".py",
   "mimetype": "text/x-python",
   "name": "python",
   "nbconvert_exporter": "python",
   "pygments_lexer": "ipython2",
   "version": "2.7.6"
  }
 },
 "nbformat": 4,
 "nbformat_minor": 0
}