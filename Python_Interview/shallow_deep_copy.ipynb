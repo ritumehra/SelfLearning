{
 "cells": [
  {
   "cell_type": "code",
   "execution_count": 5,
   "metadata": {
    "collapsed": true
   },
   "outputs": [
    {
     "name": "stdout",
     "output_type": "stream",
     "text": [
      "True\nFalse\nTrue\nTrue\nFalse\nTrue\nFalse\n"
     ]
    },
    {
     "data": {
      "text/plain": [
       "False"
      ]
     },
     "execution_count": 5,
     "metadata": {},
     "output_type": "execute_result"
    }
   ],
   "source": [
    "original = [1, [2, 3]] # Two elements: 1 and [2, 3]\n",
    "\n",
    "a = original # assignment\n",
    "print(id(a) == id(original))\n",
    "True       # same pointer!\n",
    "\n",
    "s = original[:] # shallow-copy\n",
    "print(id(s) == id(original))\n",
    "False      # s has its own pointer!\n",
    "print(id(s[0]) == id(original[0]))\n",
    "True       # The elements of s references the original elements\n",
    "print(id(s[1]) == id(original[1]))\n",
    "True       # The elements of s references the original elements\n",
    "\n",
    "import copy\n",
    "d = copy.deepcopy(original) # deep-copy\n",
    "print(id(d) == id(original))\n",
    "False       # d has its own pointer!\n",
    "print(id(d[0]) == id(original[0]))\n",
    "False       # The elements of d are separate copies\n",
    "print(id(d[1]) == id(original[1]))\n",
    "False       # The elements of d are separate copies"
   ]
  },
  {
   "cell_type": "code",
   "execution_count": 36,
   "metadata": {},
   "outputs": [
    {
     "name": "stdout",
     "output_type": "stream",
     "text": [
      "87799112 87799112\n[1, 2, 3, 9] [1, 2, 3, 9]\n\n Shallow Copy =======\n[1, 2, 3, 4] [1, 2, 3, 4]\n87547848 87907144\n497792096 497792096\n[1, 2, 3, 4, 9] [1, 2, 3, 4]\n[1, 2, 3, 4, 9] [1, 2, 3, 4, 10]\n87547848 87907144\n497792096 497792096\n[1, 2, 3, 4, 9] [1, 2, 8, 4, 10]\n[1, 2, 7, 4, 9] [1, 2, 8, 4, 10]\n497792256 497792288\n"
     ]
    }
   ],
   "source": [
    "# List assignment\n",
    "\n",
    "a = [1, 2, 3, 4]\n",
    "b = a\n",
    "print(id(a), id(b))\n",
    "a[3] = 9\n",
    "print(a, b)\n",
    "\n",
    "# List Shallow copy\n",
    "\n",
    "print(\"\\n Shallow Copy =======\")\n",
    "import copy\n",
    "a = [1, 2, 3, 4]\n",
    "b = copy.copy(a)\n",
    "print(a, b)\n",
    "\n",
    "# List have their memory but\n",
    "#  the elements inside the list point to the same memory location\n",
    "print(id(a), id(b)) \n",
    "print(id(a[1]), id(b[1]))\n",
    "\n",
    "# Does not append in the copied list\n",
    "a.append(9)\n",
    "print(a, b)\n",
    "\n",
    "# Does not append in the original list\n",
    "b.append(10)\n",
    "print(a, b)\n",
    "\n",
    "print(id(a), id(b)) \n",
    "print(id(a[1]), id(b[1]))\n",
    "\n",
    "# does not make changes in the \n",
    "b[2] = 8\n",
    "print(a, b)\n",
    "\n",
    "a[2] = 7\n",
    "print(a, b)\n",
    "print(id(a[2]), id(b[2]))\n",
    "\n",
    "a = [1, 2, 3, 4]"
   ]
  },
  {
   "cell_type": "code",
   "execution_count": 28,
   "metadata": {},
   "outputs": [
    {
     "name": "stdout",
     "output_type": "stream",
     "text": [
      "84939208 87546056\n87547848 87547848\n[['c', 1], ['y', 2]] [['c', 1], ['y', 2]]\n84939144 84939144\n"
     ]
    }
   ],
   "source": [
    "a = [['x', 1], ['y', 2]]\n",
    "\n",
    "b = copy.copy(a)\n",
    "\n",
    "print(id(a), id(b))\n",
    "\n",
    "print(id(a[1]), id(b[1]))\n",
    "\n",
    "a[0][0] = 'c'\n",
    "\n",
    "print(a, b)\n",
    "print(id(a[0]), id(b[0]))"
   ]
  },
  {
   "cell_type": "code",
   "execution_count": 40,
   "metadata": {},
   "outputs": [
    {
     "name": "stdout",
     "output_type": "stream",
     "text": [
      "87928456 87928712\n87799880 87928776\n[['x', 1], ['y', 2]] [['c', 1], ['y', 2]]\n87928392 87928328\n"
     ]
    }
   ],
   "source": [
    "#deep copies\n",
    "\n",
    "a = [['x', 1], ['y', 2]]\n",
    "\n",
    "import copy\n",
    "b = copy.deepcopy(a)\n",
    "\n",
    "\n",
    "print(id(a), id(b))\n",
    "\n",
    "print(id(a[1]), id(b[1]))\n",
    "\n",
    "b[0][0] = 'c'\n",
    "\n",
    "print(a, b)\n",
    "print(id(a[0]), id(b[0]))"
   ]
  },
  {
   "cell_type": "code",
   "execution_count": null,
   "metadata": {},
   "outputs": [],
   "source": [
    ""
   ]
  }
 ],
 "metadata": {
  "kernelspec": {
   "display_name": "Python 2",
   "language": "python",
   "name": "python2"
  },
  "language_info": {
   "codemirror_mode": {
    "name": "ipython",
    "version": 2.0
   },
   "file_extension": ".py",
   "mimetype": "text/x-python",
   "name": "python",
   "nbconvert_exporter": "python",
   "pygments_lexer": "ipython2",
   "version": "2.7.6"
  }
 },
 "nbformat": 4,
 "nbformat_minor": 0
}