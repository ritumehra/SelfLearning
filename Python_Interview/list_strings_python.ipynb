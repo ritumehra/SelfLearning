{
 "cells": [
  {
   "cell_type": "code",
   "execution_count": 1,
   "metadata": {
    "collapsed": true
   },
   "outputs": [
    {
     "name": "stdout",
     "output_type": "stream",
     "text": [
      "Alex\n['Ashok', 'Vijay', 'Anil']\n['Ajay', 'Bobby', 'Ashok', 'Vijay', 'Anil', 'Rahul', 'Alex']\n['Ajay', 'Bobby', 'Ashok', 'Vijay', 'Anil', 'Rahul', 'Alex', 'Christopher']\n['Ajay', 'Ashok', 'Anil', 'Alex']\n['Christopher', 'Alex', 'Rahul', 'Anil', 'Vijay', 'Ashok', 'Bobby', 'Ajay']\n['Ajay', 'Bobby', 'Ashok', 'Vijay', 'Anil', 'Rahul', 'Alex', 'Christopher']\n"
     ]
    }
   ],
   "source": [
    "# String Slicing\n",
    "\n",
    "lst1 = ['Ajay', 'Bobby','Ashok', 'Vijay', 'Anil', 'Rahul','Alex', 'Christopher']\n",
    "# lst1 = 'teststring'\n",
    "print(lst1[-2])\n",
    "print(lst1[2:5])# lst1[start|end-1]\n",
    "print(lst1[:-1])#prints the list from start till end - 1\n",
    "print(lst1[:len(lst1)]) #prints all the list\n",
    "print(lst1[::2])#print the list with step 2\n",
    "print(lst1[::-1])#prints the list in the reverse order\n",
    "print(lst1[::1])#prints the list in the reverse order"
   ]
  },
  {
   "cell_type": "code",
   "execution_count": 14,
   "metadata": {},
   "outputs": [
    {
     "name": "stdout",
     "output_type": "stream",
     "text": [
      "Is list 1 equal to list 2?\nTrue\nIs list 2 equal to list 3?\nFalse\n"
     ]
    }
   ],
   "source": [
    "#String Comparision\n",
    "\n",
    "lst1 = ['Ajay', 'Bobby','Ashok', 'Vijay', 'Anil', 'Rahul','Alex', 'Christopher']\n",
    "lst2 = ['Ajay', 'Bobby','Ashok', 'Vijay', 'Anil', 'Rahul','Alex', 'Christopher']\n",
    "lst3 = ['Ajay', 'Bobby','Ashok']\n",
    "\n",
    "print('Is list 1 equal to list 2?')\n",
    "print(lst1==lst2);\n",
    "print('Is list 2 equal to list 3?')\n",
    "print(lst2==lst3);"
   ]
  },
  {
   "cell_type": "code",
   "execution_count": 15,
   "metadata": {},
   "outputs": [
    {
     "name": "stdout",
     "output_type": "stream",
     "text": [
      "list 1 : [10, 294, 1290, 467, 783, 87]\nThe maximum value in the list is : \n1290\nThe minimum value in the list is : \n10\n"
     ]
    }
   ],
   "source": [
    "# Maximum and Minimum Valueof a list\n",
    "\n",
    "lst1=[10, 294, 1290, 467, 783, 87]\n",
    "print('list 1 : '+ str(lst1))\n",
    "print('The maximum value in the list is : ')\n",
    "print(max(lst1))\n",
    "print('The minimum value in the list is : ')\n",
    "print(min(lst1))"
   ]
  },
  {
   "cell_type": "code",
   "execution_count": null,
   "metadata": {},
   "outputs": [],
   "source": [
    ""
   ]
  }
 ],
 "metadata": {
  "kernelspec": {
   "display_name": "Python 2",
   "language": "python",
   "name": "python2"
  },
  "language_info": {
   "codemirror_mode": {
    "name": "ipython",
    "version": 2.0
   },
   "file_extension": ".py",
   "mimetype": "text/x-python",
   "name": "python",
   "nbconvert_exporter": "python",
   "pygments_lexer": "ipython2",
   "version": "2.7.6"
  }
 },
 "nbformat": 4,
 "nbformat_minor": 0
}