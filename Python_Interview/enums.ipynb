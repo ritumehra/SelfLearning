{
 "cells": [
  {
   "cell_type": "code",
   "execution_count": 4,
   "metadata": {
    "collapsed": true
   },
   "outputs": [
    {
     "name": "stdout",
     "output_type": "stream",
     "text": [
      "ADVERSE_MEDIA\nBACKGROUND_INFO\nDIRECTOR\nIRS\nLITIGATION\nSANCTIONS\nSHAREHOLDER\n"
     ]
    }
   ],
   "source": [
    "from enum import Enum, auto\n",
    "\n",
    "\n",
    "class AutoName(Enum):\n",
    "    \"\"\"\n",
    "    This class enables us to customize/enhance the basic\n",
    "    functionality of Enum. Please prefer to extend AutoName\n",
    "    class instead of Enum when creating your own Enums.\n",
    "    \"\"\"\n",
    "    def _generate_next_value_(self, start, count, last_values):\n",
    "        \"\"\"\n",
    "        This method is over-ridden from original definition\n",
    "        in order to return enum_member.name when auto() is\n",
    "        called to assign values to enum members. It will\n",
    "        keep values more consistent across the project\n",
    "        without hard-coding them. Saves refactoring effort.\n",
    "        \"\"\"\n",
    "        \n",
    "        # print(self)\n",
    "        return self\n",
    "\n",
    "\n",
    "class RiskSegment(AutoName):\n",
    "    \"\"\"\n",
    "    All risk segments can be picked from here\n",
    "    instead of using hard-coded strings.\n",
    "    \"\"\"\n",
    "    ADVERSE_MEDIA = auto()\n",
    "    BACKGROUND_INFO = auto()\n",
    "    DIRECTOR = auto()\n",
    "    IRS = auto()\n",
    "    LITIGATION = auto()\n",
    "    SANCTIONS = auto()\n",
    "    SHAREHOLDER = auto()\n",
    "\n",
    "\n",
    "# class ExtractorType(AutoName):\n",
    "#     \"\"\"\n",
    "#     All extractor types can be picked from here\n",
    "#     instead of using hard-coded strings.\n",
    "#     \"\"\"\n",
    "#     AGGREGATOR = auto()\n",
    "#     API = auto()\n",
    "#     BVD = auto()\n",
    "#     DYNAMIC_BATCH = auto()\n",
    "#     LEXISNEXIS = auto()\n",
    "#     STATIC = auto()\n",
    "\n",
    "\n",
    "print(RiskSegment.SHAREHOLDER.value)"
   ]
  },
  {
   "cell_type": "code",
   "execution_count": null,
   "metadata": {},
   "outputs": [],
   "source": [
    ""
   ]
  }
 ],
 "metadata": {
  "kernelspec": {
   "display_name": "Python 2",
   "language": "python",
   "name": "python2"
  },
  "language_info": {
   "codemirror_mode": {
    "name": "ipython",
    "version": 2.0
   },
   "file_extension": ".py",
   "mimetype": "text/x-python",
   "name": "python",
   "nbconvert_exporter": "python",
   "pygments_lexer": "ipython2",
   "version": "2.7.6"
  }
 },
 "nbformat": 4,
 "nbformat_minor": 0
}