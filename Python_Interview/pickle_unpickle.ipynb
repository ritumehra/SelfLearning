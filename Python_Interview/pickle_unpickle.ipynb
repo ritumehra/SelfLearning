{
 "cells": [
  {
   "cell_type": "code",
   "execution_count": 7,
   "metadata": {
    "collapsed": true
   },
   "outputs": [
    {
     "name": "stdout",
     "output_type": "stream",
     "text": [
      "{1, 2, 3, 4, 5, 6}\n"
     ]
    }
   ],
   "source": [
    "import pickle\n",
    "colours = {1,2,3,4,5,6}\n",
    "\n",
    "#Pickling\n",
    "outfile = open('test','wb')\n",
    "pickle.dump(colours,outfile)\n",
    "outfile.close()\n",
    "\n",
    "#Unpickling\n",
    "infile = open('test', 'rb')\n",
    "colour_pick = pickle.load(infile)\n",
    "infile.close()\n",
    "print(colour_pick)"
   ]
  },
  {
   "cell_type": "code",
   "execution_count": null,
   "metadata": {},
   "outputs": [],
   "source": [
    ""
   ]
  }
 ],
 "metadata": {
  "kernelspec": {
   "display_name": "Python 2",
   "language": "python",
   "name": "python2"
  },
  "language_info": {
   "codemirror_mode": {
    "name": "ipython",
    "version": 2.0
   },
   "file_extension": ".py",
   "mimetype": "text/x-python",
   "name": "python",
   "nbconvert_exporter": "python",
   "pygments_lexer": "ipython2",
   "version": "2.7.6"
  }
 },
 "nbformat": 4,
 "nbformat_minor": 0
}