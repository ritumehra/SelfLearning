{
 "cells": [
  {
   "cell_type": "code",
   "execution_count": 1,
   "metadata": {
    "collapsed": false
   },
   "outputs": [
    {
     "name": "stdout",
     "output_type": "stream",
     "text": [
      "Starting thread : Thread-6\nclasses_objects1.ipynb\nStarting thread : Thread-7\nclasses_objects2.ipynb\n"
     ]
    },
    {
     "name": "stderr",
     "output_type": "stream",
     "text": [
      "Exception in thread Thread-6:\nTraceback (most recent call last):\n  File \"C:\\Users\\chawla_r\\AppData\\Local\\Programs\\Python\\Python36\\lib\\threading.py\", line 916, in _bootstrap_inner\n    self.run()\n  File \"C:\\Users\\chawla_r\\AppData\\Local\\Programs\\Python\\Python36\\lib\\threading.py\", line 864, in run\n    self._target(*self._args, **self._kwargs)\n  File \"<ipython-input-1-3de7c1d4114a>\", line 25, in process_queue\n    copy_op(file_data)\n  File \"<ipython-input-1-3de7c1d4114a>\", line 17, in copy_op\n    shutil.copy(mydata.ip, mydata.op)\n  File \"C:\\Users\\chawla_r\\AppData\\Local\\Programs\\Python\\Python36\\lib\\shutil.py\", line 241, in copy\n    copyfile(src, dst, follow_symlinks=follow_symlinks)\n  File \"C:\\Users\\chawla_r\\AppData\\Local\\Programs\\Python\\Python36\\lib\\shutil.py\", line 120, in copyfile\n    with open(src, 'rb') as fsrc:\nFileNotFoundError: [Errno 2] No such file or directory: 'classes_objects1.ipynb'\n\nException in thread Thread-7:\nTraceback (most recent call last):\n  File \"C:\\Users\\chawla_r\\AppData\\Local\\Programs\\Python\\Python36\\lib\\threading.py\", line 916, in _bootstrap_inner\n    self.run()\n  File \"C:\\Users\\chawla_r\\AppData\\Local\\Programs\\Python\\Python36\\lib\\threading.py\", line 864, in run\n    self._target(*self._args, **self._kwargs)\n  File \"<ipython-input-1-3de7c1d4114a>\", line 25, in process_queue\n    copy_op(file_data)\n  File \"<ipython-input-1-3de7c1d4114a>\", line 17, in copy_op\n    shutil.copy(mydata.ip, mydata.op)\n  File \"C:\\Users\\chawla_r\\AppData\\Local\\Programs\\Python\\Python36\\lib\\shutil.py\", line 241, in copy\n    copyfile(src, dst, follow_symlinks=follow_symlinks)\n  File \"C:\\Users\\chawla_r\\AppData\\Local\\Programs\\Python\\Python36\\lib\\shutil.py\", line 120, in copyfile\n    with open(src, 'rb') as fsrc:\nFileNotFoundError: [Errno 2] No such file or directory: 'classes_objects2.ipynb'\n\n"
     ]
    }
   ],
   "source": [
    "import threading\n",
    "from queue import Queue\n",
    "import time\n",
    "import shutil\n",
    "\n",
    "print_lock = threading.Lock()\n",
    "\n",
    "def copy_op(file_data):\n",
    "    with print_lock:\n",
    "        print(\"Starting thread : {}\".format(threading.current_thread().name))\n",
    "\n",
    "    mydata = threading.local()\n",
    "    mydata.ip, mydata.op = next(iter(file_data.items()))\n",
    "    \n",
    "    print(mydata.ip)\n",
    "\n",
    "    shutil.copy(mydata.ip, mydata.op)\n",
    "\n",
    "    with print_lock:\n",
    "        print(\"Finished thread : {}\".format(threading.current_thread().name))\n",
    "\n",
    "def process_queue():\n",
    "    while True:\n",
    "        file_data = compress_queue.get()\n",
    "        copy_op(file_data)\n",
    "        compress_queue.task_done()\n",
    "\n",
    "compress_queue = Queue()\n",
    "\n",
    "output_names = [{'classes_objects1.ipynb' : 'classes_objects1_1.ipynb'},\n",
    "                {'classes_objects2.ipynb' : 'classes_objects2_2.ipynb'}]\n",
    "\n",
    "for i in range(2):\n",
    "    t = threading.Thread(target=process_queue)\n",
    "    t.daemon = True\n",
    "    t.start()\n",
    "\n",
    "start = time.time()\n",
    "\n",
    "for file_data in output_names:\n",
    "    compress_queue.put(file_data)\n",
    "\n",
    "compress_queue.join()\n",
    "\n",
    "print(\"Execution time = {0:.5f}\".format(time.time() - start))"
   ]
  },
  {
   "cell_type": "code",
   "execution_count": 3,
   "metadata": {},
   "outputs": [
    {
     "name": "stdout",
     "output_type": "stream",
     "text": [
      "Start Program\n<queue.Queue object at 0x0000000007BC1978>\n\nStarting thread Thread-20\n\nStarting thread Thread-16\n\nStarting thread Thread-19\n\nStarting thread Thread-18\n\nStarting thread Thread-17\n"
     ]
    },
    {
     "name": "stdout",
     "output_type": "stream",
     "text": [
      "Thread-19\n\nhttps://www.google.com\n\nGoogle\n\n\nFinished fetching : https://www.google.com\nThread-16\n\nhttps://www.google.com\n\nGoogle\n\n\nFinished fetching : https://www.google.com\nThread-18\n\nhttps://www.google.com\n\nGoogle\n\n\nFinished fetching : https://www.google.com\nThread-20\n\nhttps://www.google.com\n\nGoogle\n\n\nFinished fetching : https://www.google.com\nThread-17\n\nhttps://www.google.com\n\nGoogle\n\n\nFinished fetching : https://www.google.com\n[<_MainThread(MainThread, started 4760)>, <Thread(Thread-4, started daemon 7136)>, <Heartbeat(Thread-5, started daemon 9460)>, <HistorySavingThread(IPythonHistorySavingThread, started 6456)>, <ParentPollerWindows(Thread-3, started daemon 11044)>, <Thread(Thread-6, started daemon 5132)>, <Thread(Thread-7, started daemon 9124)>, <Thread(Thread-8, started daemon 10488)>, <Thread(Thread-9, started daemon 12048)>, <Thread(Thread-10, started daemon 6904)>, <Thread(Thread-11, started daemon 10260)>, <Thread(Thread-12, started daemon 8512)>, <Thread(Thread-13, started daemon 9996)>, <Thread(Thread-14, started daemon 2028)>, <Thread(Thread-15, started daemon 8576)>, <Thread(Thread-16, started daemon 10268)>, <Thread(Thread-17, started daemon 6740)>, <Thread(Thread-18, started daemon 7140)>, <Thread(Thread-19, started daemon 9140)>, <Thread(Thread-20, started daemon 6608)>]\nExecution time = 0.34402\n"
     ]
    }
   ],
   "source": [
    "import threading\n",
    "from queue import Queue\n",
    "import requests\n",
    "import bs4\n",
    "import time\n",
    "\n",
    "print_lock = threading.Lock()\n",
    "\n",
    "def get_url(current_url):\n",
    "\n",
    "    with print_lock:\n",
    "        print(\"\\nStarting thread {}\".format(threading.current_thread().name))\n",
    "    res = requests.get(current_url)\n",
    "    res.raise_for_status()\n",
    "\n",
    "    current_page = bs4.BeautifulSoup(res.text,\"html.parser\")\n",
    "    current_title = current_page.select('title')[0].getText()\n",
    "\n",
    "    with print_lock:\n",
    "        print(\"{}\\n\".format(threading.current_thread().name))\n",
    "        print(\"{}\\n\".format(current_url))\n",
    "        print(\"{}\\n\".format(current_title))\n",
    "        print(\"\\nFinished fetching : {}\".format(current_url))\n",
    "\n",
    "def process_queue():\n",
    "    while True:\n",
    "        current_url = url_queue.get()\n",
    "        get_url(current_url)\n",
    "        url_queue.task_done()\n",
    "\n",
    "print(\"Start Program\")\n",
    "url_queue = Queue()\n",
    "\n",
    "url_list = [\"https://www.google.com\"]*5\n",
    "\n",
    "for i in range(5):\n",
    "    t = threading.Thread(target=process_queue)\n",
    "    t.daemon = True\n",
    "    t.start()\n",
    "\n",
    "start = time.time()\n",
    "\n",
    "for current_url in url_list:\n",
    "    url_queue.put(current_url)\n",
    "\n",
    "# url_queue.put(url for url in url_list)\n",
    "print(url_queue)\n",
    "\n",
    "url_queue.join()\n",
    "\n",
    "print(threading.enumerate())\n",
    "\n",
    "print(\"Execution time = {0:.5f}\".format(time.time() - start))"
   ]
  },
  {
   "cell_type": "code",
   "execution_count": 1,
   "metadata": {},
   "outputs": [],
   "source": [
    "import multiprocessing, time\n",
    "pool_count = 5\n",
    "num_list = list()\n",
    "\n",
    "def calculate_sum(num):\n",
    "    sum_total = 0\n",
    "    init = 2\n",
    "    while init <= num:\n",
    "        sum_total += init\n",
    "        init += 1\n",
    "\n",
    "for rand_num in range(100):\n",
    "    num_list.append(rand_num)\n",
    "\n",
    "if __name__ == '__main__':\n",
    "    start_time = time.time()\n",
    "    p = multiprocessing.Pool(pool_count)\n",
    "    p.map(calculate_sum, num_list)\n",
    "\n",
    "    print(\"pool_count: \", pool_count)\n",
    "    print(\"Start Time (sec): \", start_time)\n",
    "    print(\"End Time   (sec): \", time.time())\n",
    "\n",
    "    m, s = divmod(time.time() - start_time, 60)\n",
    "    print(\"Time taken to execute: \", s)"
   ]
  },
  {
   "cell_type": "code",
   "execution_count": 6,
   "metadata": {},
   "outputs": [
    {
     "name": "stdout",
     "output_type": "stream",
     "text": [
      "[0, 1, 2, 3, 4, 5, 6, 7, 8, 9, 10, 11, 12, 13, 14, 15, 16, 17, 18, 19, 20, 21, 22, 23, 24, 25, 26, 27, 28, 29, 30, 31, 32, 33, 34, 35, 36, 37, 38, 39, 40, 41, 42, 43, 44, 45, 46, 47, 48, 49, 50, 51, 52, 53, 54, 55, 56, 57, 58, 59, 60, 61, 62, 63, 64, 65, 66, 67, 68, 69, 70, 71, 72, 73, 74, 75, 76, 77, 78, 79, 80, 81, 82, 83, 84, 85, 86, 87, 88, 89, 90, 91, 92, 93, 94, 95, 96, 97, 98, 99]\n[0, 1, 2, 3, 4, 5, 6, 7, 8, 9, 10, 11, 12, 13, 14, 15, 16, 17, 18, 19, 20, 21, 22, 23, 24, 25, 26, 27, 28, 29, 30, 31, 32, 33, 34, 35, 36, 37, 38, 39, 40, 41, 42, 43, 44, 45, 46, 47, 48, 49, 50, 51, 52, 53, 54, 55, 56, 57, 58, 59, 60, 61, 62, 63, 64, 65, 66, 67, 68, 69, 70, 71, 72, 73, 74, 75, 76, 77, 78, 79, 80, 81, 82, 83, 84, 85, 86, 87, 88, 89, 90, 91, 92, 93, 94, 95, 96, 97, 98, 99]\n"
     ]
    }
   ],
   "source": [
    "num_list = []\n",
    "for rand_num in range(100):\n",
    "    num_list.append(rand_num)\n",
    "\n",
    "print(num_list)\n",
    "\n",
    "num_list = (i for i in range(100))\n",
    "\n",
    "print(list(num_list))"
   ]
  },
  {
   "cell_type": "code",
   "execution_count": null,
   "metadata": {},
   "outputs": [],
   "source": [
    ""
   ]
  }
 ],
 "metadata": {
  "kernelspec": {
   "display_name": "Python 2",
   "language": "python",
   "name": "python2"
  },
  "language_info": {
   "codemirror_mode": {
    "name": "ipython",
    "version": 2.0
   },
   "file_extension": ".py",
   "mimetype": "text/x-python",
   "name": "python",
   "nbconvert_exporter": "python",
   "pygments_lexer": "ipython2",
   "version": "2.7.6"
  }
 },
 "nbformat": 4,
 "nbformat_minor": 0
}