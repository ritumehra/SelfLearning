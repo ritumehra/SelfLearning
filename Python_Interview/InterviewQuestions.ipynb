{
 "cells": [
  {
   "cell_type": "code",
   "execution_count": 21,
   "metadata": {
    "collapsed": false
   },
   "outputs": [
    {
     "name": "stdout",
     "output_type": "stream",
     "text": [
      "0\n3\n6\n9\n"
     ]
    }
   ],
   "source": [
    "for i in range(0,10,3):\n",
    "    print(i)\n",
    "    # print(\"value: {}\".format(i%3))"
   ]
  },
  {
   "cell_type": "code",
   "execution_count": 4,
   "metadata": {},
   "outputs": [
    {
     "name": "stdout",
     "output_type": "stream",
     "text": [
      "Total 23\n"
     ]
    }
   ],
   "source": [
    "#Generator Expression\n",
    " \n",
    "total = sum(i for i in range(10) if i%3 == 0 or i%5 == 0)\n",
    "print(\"Total {}\".format(total))"
   ]
  },
  {
   "cell_type": "code",
   "execution_count": 3,
   "metadata": {},
   "outputs": [
    {
     "name": "stdout",
     "output_type": "stream",
     "text": [
      "[0, 3, 5, 6, 9]\nSun Total : 23\n"
     ]
    }
   ],
   "source": [
    "var = [i for i in range(10) if i % 3 == 0 or i % 5 == 0]\n",
    "print(var)\n",
    "\n",
    "#list Comprehension\n",
    "sum_total = sum([i for i in range(10) if i % 3 == 0 or i % 5 == 0])\n",
    "print(\"Sun Total : {}\".format(sum_total))"
   ]
  },
  {
   "cell_type": "code",
   "execution_count": 14,
   "metadata": {},
   "outputs": [
    {
     "name": "stdout",
     "output_type": "stream",
     "text": [
      "list_3_5: [0, 3, 6, 9, 0, 5]\nunique_list: {0, 3, 5, 6, 9} \n23\ntotal_sum : 23\n"
     ]
    }
   ],
   "source": [
    "list_3 = list(range(0, 10, 3)) \n",
    "list_5 = list(range(0, 10, 5))\n",
    "\n",
    "list_3_5 = list_3 + list_5\n",
    "\n",
    "print(\"list_3_5: {}\".format(list_3_5))\n",
    "\n",
    "unique_list = set(list_3_5)\n",
    "print(\"unique_list: {} \".format(unique_list))\n",
    "\n",
    "total = sum(unique_list)\n",
    "print(total)\n",
    "\n",
    "\n",
    "total_sum = sum(set(list(range(0, 10, 3)) + list(range(0, 10, 5))))\n",
    "print(\"total_sum : {}\".format(total_sum))"
   ]
  },
  {
   "cell_type": "code",
   "execution_count": 28,
   "metadata": {},
   "outputs": [
    {
     "name": "stdout",
     "output_type": "stream",
     "text": [
      "[0, 1, 4, 9, 16, 25, 36, 49, 64, 81]\n[0, 1, 4, 9, 16, 25, 36, 49, 64, 81]\n"
     ]
    }
   ],
   "source": [
    "var = list(map(lambda x: x**2, range(10)))\n",
    "print(var)\n",
    "\n",
    "# List comprehension\n",
    "var = [x*x for x in range(10)]\n",
    "print(var)"
   ]
  },
  {
   "cell_type": "code",
   "execution_count": 37,
   "metadata": {},
   "outputs": [
    {
     "name": "stdout",
     "output_type": "stream",
     "text": [
      "2\n[['a', 'b'], ['c', 'd']]\n"
     ]
    }
   ],
   "source": [
    "x = ['ab', 'cd']\n",
    "\n",
    "print(len(list(map(list, x))))\n",
    "\n",
    "print (list(map(list, x)))"
   ]
  },
  {
   "cell_type": "code",
   "execution_count": 42,
   "metadata": {},
   "outputs": [
    {
     "name": "stdout",
     "output_type": "stream",
     "text": [
      "4\n"
     ]
    }
   ],
   "source": [
    "x = [12, 34]\n",
    "print(len(''.join(list(map(str, x)))))"
   ]
  },
  {
   "cell_type": "code",
   "execution_count": 47,
   "metadata": {},
   "outputs": [
    {
     "name": "stdout",
     "output_type": "stream",
     "text": [
      "9\n"
     ]
    }
   ],
   "source": [
    "x = [12.1, 34.0]\n",
    "print(len(' '.join(list(map(str, x)))))"
   ]
  },
  {
   "cell_type": "code",
   "execution_count": 48,
   "metadata": {},
   "outputs": [
    {
     "name": "stdout",
     "output_type": "stream",
     "text": [
      "7\n"
     ]
    }
   ],
   "source": [
    "x = [[0], [1]]\n",
    "print(len(' '.join(list(map(str, x)))))"
   ]
  },
  {
   "cell_type": "code",
   "execution_count": 60,
   "metadata": {},
   "outputs": [
    {
     "name": "stdout",
     "output_type": "stream",
     "text": [
      "%CE%B1%CE%BB%B1%CE%BB\n12\n%CE%B1%CE%BB%B1%CE%BB\n"
     ]
    }
   ],
   "source": [
    "str = '%CE%B1%CE%BB%20%B1%CE%BB'\n",
    "print(str.replace('%20',\"\"))\n",
    "\n",
    "# for s in str:\n",
    "#     print(s)\n",
    "\n",
    "pos = str.find('%20')\n",
    "print(pos)\n",
    "\n",
    "\n",
    "new_str = str[:pos] + str[pos+3:]\n",
    "\n",
    "print(new_str)"
   ]
  },
  {
   "cell_type": "code",
   "execution_count": 51,
   "metadata": {},
   "outputs": [
    {
     "name": "stdout",
     "output_type": "stream",
     "text": [
      "αλ \n"
     ]
    }
   ],
   "source": [
    "from urllib.parse import unquote\n",
    "print(unquote(\"%CE%B1%CE%BB%20\"))"
   ]
  },
  {
   "cell_type": "code",
   "execution_count": 73,
   "metadata": {},
   "outputs": [
    {
     "name": "stdout",
     "output_type": "stream",
     "text": [
      "0x1d9fb440\n0x1d9fb440\n1\n"
     ]
    }
   ],
   "source": [
    "a = 1\n",
    "b = 1\n",
    "\n",
    "print(hex(id(a)))\n",
    "print(hex(id(b)))\n",
    "\n",
    "del a\n",
    "\n",
    "print(b)"
   ]
  },
  {
   "cell_type": "code",
   "execution_count": 3,
   "metadata": {},
   "outputs": [
    {
     "name": "stdout",
     "output_type": "stream",
     "text": [
      "1\n"
     ]
    }
   ],
   "source": [
    "print (2 ** 0)"
   ]
  },
  {
   "cell_type": "code",
   "execution_count": 6,
   "metadata": {},
   "outputs": [
    {
     "name": "stdout",
     "output_type": "stream",
     "text": [
      "['a', 'b']\n['a', 'b']\n"
     ]
    }
   ],
   "source": [
    "#Find set of charecters not repeated in a list\n",
    "\n",
    "if __name__ == \"__main__\":\n",
    "    li = ['a', 'b', 'c', 'c']\n",
    "    \n",
    "    #List Comprehension\n",
    "    res = [x for x in li if li.count(x) == 1]\n",
    "    \n",
    "    #generator expression\n",
    "    res_gen = (x for x in li if li.count(x) == 1)\n",
    "    \n",
    "    print(res)\n",
    "    print(list(res_gen))"
   ]
  },
  {
   "cell_type": "code",
   "execution_count": 26,
   "metadata": {},
   "outputs": [
    {
     "name": "stdout",
     "output_type": "stream",
     "text": [
      "<class 'str'> <class 'bytes'>\n<class 'str'>\n"
     ]
    }
   ],
   "source": [
    "# Converting a unicode string\n",
    "\n",
    "plain_string = \"Hi!\"\n",
    "unicode_string = \"Hi!\"\n",
    "encoded = unicode_string.encode('utf-8')\n",
    "print(type(plain_string), type(encoded ))\n",
    "unicodestr = encoded.decode(\"utf-8\")\n",
    "\n",
    "print(type(unicodestr))"
   ]
  },
  {
   "cell_type": "code",
   "execution_count": 8,
   "metadata": {},
   "outputs": [
    {
     "name": "stdout",
     "output_type": "stream",
     "text": [
      "[1, 4, 27, 256, 3125]\n[<function <genexpr>.<lambda> at 0x0000000004EDE158>, <function <genexpr>.<lambda> at 0x0000000004EDE378>, <function <genexpr>.<lambda> at 0x0000000004EDE510>, <function <genexpr>.<lambda> at 0x0000000004EDE1E0>, <function <genexpr>.<lambda> at 0x0000000004EDE730>]\n"
     ]
    }
   ],
   "source": [
    "lst_var = [1,2,3,4,5]\n",
    "\n",
    "lst_var = list(i**i for i in lst_var)\n",
    "\n",
    "print(lst_var)\n",
    "\n",
    "lst_var11 = list(lambda i: i**i for i in lst_var)\n",
    "\n",
    "print(lst_var11)"
   ]
  },
  {
   "cell_type": "code",
   "execution_count": 20,
   "metadata": {},
   "outputs": [
    {
     "name": "stdout",
     "output_type": "stream",
     "text": [
      "init\nMehra\nRitu\n"
     ]
    }
   ],
   "source": [
    "class test:\n",
    "    name = 'Ritu'\n",
    "    \n",
    "    def __init__(self):\n",
    "        print(\"init\")\n",
    "        # print(name1)\n",
    "        self.name1 = \"Mehra\"\n",
    "        print(self.name1)\n",
    "        \n",
    "obj_test = test()\n",
    "print(obj_test.name)"
   ]
  },
  {
   "cell_type": "code",
   "execution_count": 1,
   "metadata": {},
   "outputs": [
    {
     "name": "stdout",
     "output_type": "stream",
     "text": [
      "82780488\n"
     ]
    }
   ],
   "source": [
    "str = \"Ritu\"\n",
    "\n",
    "print (id(str))"
   ]
  },
  {
   "cell_type": "code",
   "execution_count": 2,
   "metadata": {},
   "outputs": [
    {
     "name": "stdout",
     "output_type": "stream",
     "text": [
      "10\n10\n10\n"
     ]
    }
   ],
   "source": [
    "# Ternary Operator \n",
    "# Python program to demonstrate ternary operator\n",
    "a, b = 10, 20\n",
    " \n",
    "# Use tuple for selecting an item\n",
    "print( (b, a) [a < b] )\n",
    " \n",
    "# Use Dictionary for selecting an item\n",
    "print({True: a, False: b} [a < b])\n",
    " \n",
    "# lamda is more efficient than above two methods\n",
    "# because in lambda  we are assure that\n",
    "# only one expression will be evaluated unlike in\n",
    "# tuple and Dictionary\n",
    "print((lambda: b, lambda: a)[a < b]())"
   ]
  },
  {
   "cell_type": "code",
   "execution_count": 2,
   "metadata": {},
   "outputs": [
    {
     "name": "stdout",
     "output_type": "stream",
     "text": [
      "10\n"
     ]
    }
   ],
   "source": [
    "a, b = 10, 20\n",
    "\n",
    "print (a) if b>a else print(b)"
   ]
  },
  {
   "cell_type": "code",
   "execution_count": 2,
   "metadata": {},
   "outputs": [
    {
     "name": "stdout",
     "output_type": "stream",
     "text": [
      "\nUsing for in loop\n0\n1\n1\n2\n3\n"
     ]
    }
   ],
   "source": [
    "# A simple generator for Fibonacci Numbers\n",
    "def fib(limit):\n",
    "     \n",
    "    # Initialize first two Fibonacci Numbers \n",
    "    a, b = 0, 1\n",
    " \n",
    "    # One by one yield next Fibonacci Number\n",
    "    while a < limit:\n",
    "        yield a\n",
    "        a, b = b, a + b\n",
    " \n",
    "# Create a generator object\n",
    "x = fib(5)\n",
    " \n",
    "# # Iterating over the generator object using next\n",
    "# print(x.next()); # In Python 3, __next__()\n",
    "# print(x.next());\n",
    "# print(x.next());\n",
    "# print(x.next());\n",
    "# print(x.next());\n",
    " \n",
    "# Iterating over the generator object using for\n",
    "# in loop.\n",
    "print(\"\\nUsing for in loop\")\n",
    "for i in fib(5): \n",
    "    print(i)"
   ]
  },
  {
   "cell_type": "code",
   "execution_count": 7,
   "metadata": {},
   "outputs": [
    {
     "name": "stdout",
     "output_type": "stream",
     "text": [
      "{1: 1, 2: 4, 3: 9, 4: 16, 5: 25}\n"
     ]
    }
   ],
   "source": [
    "list_input = [1,2,3,4,5]\n",
    "\n",
    "res_dict = {x: x*x for x in list_input}\n",
    "print(res_dict)"
   ]
  },
  {
   "cell_type": "code",
   "execution_count": 9,
   "metadata": {},
   "outputs": [
    {
     "name": "stdout",
     "output_type": "stream",
     "text": [
      "[1, 2, 3, 4, 5, 6, 7, 8, 9]\n"
     ]
    }
   ],
   "source": [
    "res = (x for x in range(1,10) if x%x == 0)\n",
    "\n",
    "print(list(res))"
   ]
  },
  {
   "cell_type": "code",
   "execution_count": null,
   "metadata": {},
   "outputs": [],
   "source": [
    ""
   ]
  }
 ],
 "metadata": {
  "kernelspec": {
   "display_name": "Python 2",
   "language": "python",
   "name": "python2"
  },
  "language_info": {
   "codemirror_mode": {
    "name": "ipython",
    "version": 2.0
   },
   "file_extension": ".py",
   "mimetype": "text/x-python",
   "name": "python",
   "nbconvert_exporter": "python",
   "pygments_lexer": "ipython2",
   "version": "2.7.6"
  }
 },
 "nbformat": 4,
 "nbformat_minor": 0
}