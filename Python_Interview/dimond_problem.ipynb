{
 "cells": [
  {
   "cell_type": "code",
   "execution_count": 1,
   "metadata": {
    "collapsed": true
   },
   "outputs": [
    {
     "data": {
      "text/plain": [
       "(__main__.D, __main__.B, __main__.C, __main__.A, object)"
      ]
     },
     "execution_count": 1,
     "metadata": {},
     "output_type": "execute_result"
    }
   ],
   "source": [
    "# The \"Method Resolution Order\" class \n",
    "\n",
    "class A(object): pass\n",
    "\n",
    "class B(A): pass\n",
    "\n",
    "class C(A): pass\n",
    "\n",
    "class D(B,C): pass\n",
    "\n",
    "D.__mro__"
   ]
  },
  {
   "cell_type": "code",
   "execution_count": 9,
   "metadata": {},
   "outputs": [
    {
     "name": "stdout",
     "output_type": "stream",
     "text": [
      "Class B\n(<class '__main__.B'>, <class '__main__.C'>)\nClass D\n(<class '__main__.C'>, <class '__main__.B'>)\nClass D\n"
     ]
    }
   ],
   "source": [
    "# Method Resolution Object and Diamond Problem in Python\n",
    "\n",
    "class A(object): \n",
    "    def call(self):\n",
    "        print(\"Class A\")\n",
    "\n",
    "\n",
    "class B(A): \n",
    "    \n",
    "    def call(self):\n",
    "        print(\"Class B\")\n",
    "\n",
    "\n",
    "class C(A): \n",
    "    def call(self):\n",
    "        print(\"Class C\")\n",
    "        \n",
    "\n",
    "\n",
    "class D(B,C): \n",
    "    pass\n",
    "\n",
    "objD = D()\n",
    "objD.call()\n",
    "\n",
    "\n",
    "class D(B,C): \n",
    "    def call(self):\n",
    "        print(self.__class__.__bases__)\n",
    "        print(\"Class D\")\n",
    "    \n",
    "    def restructure(self, parent2, parent1):\n",
    "        self.__class__.__bases__ = (parent2, parent1)\n",
    "        \n",
    "objD = D()\n",
    "objD.call()\n",
    "objD.restructure(C,B)\n",
    "objD.call()"
   ]
  },
  {
   "cell_type": "code",
   "execution_count": 10,
   "metadata": {},
   "outputs": [
    {
     "name": "stdout",
     "output_type": "stream",
     "text": [
      "[<class '__main__.M'>, <class '__main__.B'>, <class '__main__.A'>, <class '__main__.X'>, <class '__main__.Y'>, <class '__main__.Z'>, <class 'object'>]\n"
     ]
    }
   ],
   "source": [
    "class X: pass\n",
    "class Y: pass\n",
    "class Z: pass\n",
    "\n",
    "class A(X,Y): pass\n",
    "class B(Y,Z): pass\n",
    "\n",
    "class M(B,A,Z): pass\n",
    "\n",
    "print(M.mro())"
   ]
  },
  {
   "cell_type": "code",
   "execution_count": null,
   "metadata": {},
   "outputs": [],
   "source": [
    ""
   ]
  }
 ],
 "metadata": {
  "kernelspec": {
   "display_name": "Python 2",
   "language": "python",
   "name": "python2"
  },
  "language_info": {
   "codemirror_mode": {
    "name": "ipython",
    "version": 2.0
   },
   "file_extension": ".py",
   "mimetype": "text/x-python",
   "name": "python",
   "nbconvert_exporter": "python",
   "pygments_lexer": "ipython2",
   "version": "2.7.6"
  }
 },
 "nbformat": 4,
 "nbformat_minor": 0
}