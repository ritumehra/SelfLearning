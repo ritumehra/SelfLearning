{
 "cells": [
  {
   "cell_type": "code",
   "execution_count": 1,
   "metadata": {
    "collapsed": true
   },
   "outputs": [
    {
     "name": "stdout",
     "output_type": "stream",
     "text": [
      "first normal arg: yasoob\nanother arg through *argv : python\nanother arg through *argv : eggs\nanother arg through *argv : test\n"
     ]
    }
   ],
   "source": [
    "def test_var_args(f_arg, *argv):\n",
    "    print(\"first normal arg:\", f_arg)\n",
    "    for arg in argv:\n",
    "        print(\"another arg through *argv :\", arg)\n",
    "\n",
    "test_var_args('yasoob','python','eggs','test')"
   ]
  },
  {
   "cell_type": "code",
   "execution_count": 17,
   "metadata": {},
   "outputs": [
    {
     "name": "stdout",
     "output_type": "stream",
     "text": [
      "arg: hey\narg: 14\narg: joey\n"
     ]
    }
   ],
   "source": [
    "def testify(arg1, arg2, arg3):\n",
    "    print (\"arg1:\", arg1)\n",
    "    print (\"arg2:\", arg2)\n",
    "    print (\"arg3:\", arg3)\n",
    "    \n",
    "def testify_new(*arg):\n",
    "    for iter in arg:\n",
    "        print (\"arg:\", iter)\n",
    "    \n",
    "    \n",
    "# with *args\n",
    "args = (\"hey\", 14, \"joey\")\n",
    "# testify(*args)\n",
    "testify_new(*args)\n",
    "\n",
    "# with **kwargs:\n",
    "# kwargs = {\"arg1\" : \"hey\", \"arg2\" : 14, \"arg3\" : \"joey\"}\n",
    "# testify(**kwargs)"
   ]
  },
  {
   "cell_type": "code",
   "execution_count": 16,
   "metadata": {},
   "outputs": [
    {
     "name": "stdout",
     "output_type": "stream",
     "text": [
      "Argument and Keyword argument function\na,12\nb,13\n"
     ]
    }
   ],
   "source": [
    "def argument_function(**kwmyarg):\n",
    "    \n",
    "    print(\"Argument and Keyword argument function\")\n",
    "    \n",
    "    for key, value in kwmyarg.items():\n",
    "        print(\"{},{}\".format(key,value))\n",
    "        \n",
    "        \n",
    "kwmyarg = {'a': 12, 'b':13}\n",
    "\n",
    "argument_function(**kwmyarg)"
   ]
  },
  {
   "cell_type": "code",
   "execution_count": null,
   "metadata": {},
   "outputs": [],
   "source": [
    ""
   ]
  }
 ],
 "metadata": {
  "kernelspec": {
   "display_name": "Python 2",
   "language": "python",
   "name": "python2"
  },
  "language_info": {
   "codemirror_mode": {
    "name": "ipython",
    "version": 2.0
   },
   "file_extension": ".py",
   "mimetype": "text/x-python",
   "name": "python",
   "nbconvert_exporter": "python",
   "pygments_lexer": "ipython2",
   "version": "2.7.6"
  }
 },
 "nbformat": 4,
 "nbformat_minor": 0
}