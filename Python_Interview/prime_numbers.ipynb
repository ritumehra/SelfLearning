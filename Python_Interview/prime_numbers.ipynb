{
 "cells": [
  {
   "cell_type": "code",
   "execution_count": 22,
   "metadata": {
    "collapsed": true
   },
   "outputs": [
    {
     "name": "stdout",
     "output_type": "stream",
     "text": [
      "2\n3\n5\n"
     ]
    }
   ],
   "source": [
    "def getPrimes(n):\n",
    "    i=2\n",
    "    while(i<n):\n",
    "        prime=True\n",
    "        for a in range(2,i):\n",
    "            # print(a)\n",
    "            if i%a==0 :\n",
    "                prime=False\n",
    "                break\n",
    "        if(prime):   \n",
    "            # print(i)\n",
    "            yield i\n",
    "        i += 1            \n",
    "\n",
    "# getPrimes(5)\n",
    "\n",
    "for val in getPrimes(6):\n",
    "    print(val)"
   ]
  },
  {
   "cell_type": "code",
   "execution_count": 14,
   "metadata": {},
   "outputs": [],
   "source": [
    "for a in range(2,2):\n",
    "    print(a)"
   ]
  },
  {
   "cell_type": "code",
   "execution_count": 15,
   "metadata": {},
   "outputs": [],
   "source": [
    ""
   ]
  },
  {
   "cell_type": "code",
   "execution_count": null,
   "metadata": {},
   "outputs": [],
   "source": [
    ""
   ]
  }
 ],
 "metadata": {
  "kernelspec": {
   "display_name": "Python 2",
   "language": "python",
   "name": "python2"
  },
  "language_info": {
   "codemirror_mode": {
    "name": "ipython",
    "version": 2.0
   },
   "file_extension": ".py",
   "mimetype": "text/x-python",
   "name": "python",
   "nbconvert_exporter": "python",
   "pygments_lexer": "ipython2",
   "version": "2.7.6"
  }
 },
 "nbformat": 4,
 "nbformat_minor": 0
}